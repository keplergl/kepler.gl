{
 "cells": [
  {
   "cell_type": "code",
   "execution_count": 1,
   "metadata": {},
   "outputs": [],
   "source": [
    "import pandas as pd\n",
    "df = pd.DataFrame({\n",
    "  'City': ['Buenos Aires', 'Brasilia', 'Santiago', 'Bogota', 'Caracas'],\n",
    " 'Country': ['Argentina', 'Brazil', 'Chile', 'Colombia', 'Venezuela'],\n",
    "'Latitude': [-34.58, -15.78, -33.45, 4.60, 10.48],\n",
    "'Longitude': [-58.66, -47.91, -70.66, -74.08, -66.86],\n",
    "'Time': ['2019-09-01 08:00','2019-09-01 09:00','2019-09-01 10:00','2019-09-01 11:00', '2019-09-01 12:00']\n",
    "})"
   ]
  },
  {
   "cell_type": "code",
   "execution_count": 2,
   "metadata": {},
   "outputs": [
    {
     "name": "stdout",
     "output_type": "stream",
     "text": [
      "User Guide: https://github.com/keplergl/kepler.gl/blob/master/docs/keplergl-jupyter/user-guide.md\n"
     ]
    },
    {
     "data": {
      "application/vnd.jupyter.widget-view+json": {
       "model_id": "2084c205a25a44b19d07a19efe959b23",
       "version_major": 2,
       "version_minor": 0
      },
      "text/plain": [
       "S2VwbGVyR2woZGF0YT17J2NpdHknOiAgICAgICAgICAgIENpdHkgICAgQ291bnRyeSAgTGF0aXR1ZGUgIExvbmdpdHVkZSAgICAgICAgICAgICAgVGltZQowICBCdWVub3MgQWlyZXMgIEFyZ2XigKY=\n"
      ]
     },
     "metadata": {},
     "output_type": "display_data"
    }
   ],
   "source": [
    "from keplergl import KeplerGl \n",
    "map_1 = KeplerGl(height=500, data={\"city\": df})\n",
    "map_1"
   ]
  },
  {
   "cell_type": "code",
   "execution_count": 5,
   "metadata": {},
   "outputs": [],
   "source": [
    "config = {\n",
    "    \"version\": \"v1\",\n",
    "    \"config\": {\n",
    "        \"visState\": {\n",
    "            \"filters\":[\n",
    "                {\n",
    "                    \"dataId\": \"city\",\n",
    "                     \"enlarged\": True,\n",
    "                     \"name\": \"Time\",\n",
    "                     \"type\": \"timeRange\",\n",
    "                     \"value\": [1567326664000, 1567330842000]\n",
    "                }\n",
    "            ],\n",
    "            \"layers\": [\n",
    "                {\n",
    "                    \"type\": \"point\",\n",
    "                    \"config\": {\n",
    "                        \"dataId\": \"city\",\n",
    "                        \"isVisible\": True,\n",
    "                        \"columns\": {\n",
    "                            \"altitude\": None,\n",
    "                            \"lat\": \"Latitude\",\n",
    "                            \"lng\": \"Longitude\"\n",
    "                        },\n",
    "                        \"color\": [165, 16, 55],\n",
    "                        \"visConfig\": {\n",
    "                            \"radius\": 64.4\n",
    "                        },\n",
    "                        \"textLabel\": {\n",
    "                            \"field\": {\"name\": \"City\", \"type\": \"string\"}\n",
    "                        }\n",
    "                    }\n",
    "                }\n",
    "            ]\n",
    "        }\n",
    "    }\n",
    "}"
   ]
  },
  {
   "cell_type": "code",
   "execution_count": 6,
   "metadata": {},
   "outputs": [],
   "source": [
    "map_1.config = config"
   ]
  },
  {
   "cell_type": "code",
   "execution_count": null,
   "metadata": {},
   "outputs": [],
   "source": [
    "map_1.save_to_html(file_name='keplergl_map_time_test_1.html')"
   ]
  }
 ],
 "metadata": {
  "kernelspec": {
   "display_name": "Python 2",
   "language": "python",
   "name": "python2"
  },
  "language_info": {
   "codemirror_mode": {
    "name": "ipython",
    "version": 2
   },
   "file_extension": ".py",
   "mimetype": "text/x-python",
   "name": "python",
   "nbconvert_exporter": "python",
   "pygments_lexer": "ipython2",
   "version": "2.7.16"
  }
 },
 "nbformat": 4,
 "nbformat_minor": 4
}
