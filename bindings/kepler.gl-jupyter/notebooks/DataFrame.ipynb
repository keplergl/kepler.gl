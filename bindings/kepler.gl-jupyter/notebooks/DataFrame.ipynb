{
 "cells": [
  {
   "cell_type": "code",
   "execution_count": 7,
   "metadata": {},
   "outputs": [],
   "source": [
    "import pandas as pd"
   ]
  },
  {
   "cell_type": "code",
   "execution_count": 8,
   "metadata": {},
   "outputs": [],
   "source": [
    "df = pd.DataFrame(\n",
    "    {'City': ['Buenos Aires', 'Brasilia', 'Santiago', 'Bogota', 'Caracas'],\n",
    "     'Country': ['Argentina', 'Brazil', 'Chile', 'Colombia', 'Venezuela'],\n",
    "     'Latitude': [-34.58, -15.78, -33.45, 4.60, 10.48],\n",
    "     'Longitude': [-58.66, -47.91, -70.66, -74.08, -66.86],\n",
    "     'Time': ['2019-09-01 08:00','2019-09-01 09:00','2019-09-01 10:00','2019-09-01 11:00', '2019-09-01 12:00']\n",
    "    })"
   ]
  },
  {
   "cell_type": "code",
   "execution_count": 9,
   "metadata": {},
   "outputs": [],
   "source": [
    "config = {\n",
    "    \"version\": \"v1\",\n",
    "    \"config\": {\n",
    "        \"visState\": {\n",
    "            \"filters\":[\n",
    "                {\n",
    "                    \"dataId\": \"city\",\n",
    "                     \"enlarged\": True,\n",
    "                     \"name\": \"Time\",\n",
    "                     \"type\": \"timeRange\",\n",
    "                     \"value\": [1567326664000, 1567330842000]\n",
    "                }\n",
    "            ],\n",
    "            \"layers\": [\n",
    "                {\n",
    "                    \"type\": \"point\",\n",
    "                    \"config\": {\n",
    "                        \"dataId\": \"city\",\n",
    "                        \"isVisible\": True,\n",
    "                        \"columns\": {\n",
    "                            \"altitude\": None,\n",
    "                            \"lat\": \"Latitude\",\n",
    "                            \"lng\": \"Longitude\"\n",
    "                        },\n",
    "                        \"color\": [165, 16, 55],\n",
    "                        \"visConfig\": {\n",
    "                            \"radius\": 64.4\n",
    "                        },\n",
    "                        \"textLabel\": {\n",
    "                            \"field\": {\"name\": \"City\", \"type\": \"string\"}\n",
    "                        }\n",
    "                    }\n",
    "                }\n",
    "            ]\n",
    "        }\n",
    "    }\n",
    "}"
   ]
  },
  {
   "cell_type": "code",
   "execution_count": 16,
   "metadata": {},
   "outputs": [
    {
     "name": "stdout",
     "output_type": "stream",
     "text": [
      "User Guide: https://github.com/keplergl/kepler.gl/blob/master/docs/keplergl-jupyter/user-guide.md\n"
     ]
    },
    {
     "data": {
      "application/vnd.jupyter.widget-view+json": {
       "model_id": "d201f76158ea423698d86551a89f23c1",
       "version_major": 2,
       "version_minor": 0
      },
      "text/plain": [
       "KeplerGl()"
      ]
     },
     "metadata": {},
     "output_type": "display_data"
    }
   ],
   "source": [
    "import keplergl\n",
    "w1 = keplergl.KeplerGl(height=400)\n",
    "w1"
   ]
  },
  {
   "cell_type": "code",
   "execution_count": 17,
   "metadata": {},
   "outputs": [],
   "source": [
    "w1.add_data(data=df, name=\"city\")\n"
   ]
  },
  {
   "cell_type": "code",
   "execution_count": 5,
   "metadata": {},
   "outputs": [
    {
     "data": {
      "text/plain": [
       "{'config': {'visState': {'filters': [{'dataId': 'city',\n",
       "     'enlarged': True,\n",
       "     'name': 'Time',\n",
       "     'type': 'timeRange',\n",
       "     'value': [1567326664000, 1567330842000]}],\n",
       "   'layers': [{'config': {'color': [165, 16, 55],\n",
       "      'columns': {'altitude': None, 'lat': 'Latitude', 'lng': 'Longitude'},\n",
       "      'dataId': 'city',\n",
       "      'isVisible': True,\n",
       "      'textLabel': {'field': {'name': 'City', 'type': 'string'}},\n",
       "      'visConfig': {'radius': 64.4}},\n",
       "     'type': 'point'}]}},\n",
       " 'version': 'v1'}"
      ]
     },
     "execution_count": 5,
     "metadata": {},
     "output_type": "execute_result"
    }
   ],
   "source": [
    "w1.config"
   ]
  },
  {
   "cell_type": "code",
   "execution_count": 18,
   "metadata": {},
   "outputs": [
    {
     "name": "stdout",
     "output_type": "stream",
     "text": [
      "<type 'dict'>\n",
      "Map saved to keplergl_map_test_2.html!\n"
     ]
    }
   ],
   "source": [
    "w1.save_to_html(file_name='keplergl_map_test_2.html')"
   ]
  }
 ],
 "metadata": {
  "kernelspec": {
   "display_name": "Python 2",
   "language": "python",
   "name": "python2"
  },
  "language_info": {
   "codemirror_mode": {
    "name": "ipython",
    "version": 2
   },
   "file_extension": ".py",
   "mimetype": "text/x-python",
   "name": "python",
   "nbconvert_exporter": "python",
   "pygments_lexer": "ipython2",
   "version": "2.7.16"
  }
 },
 "nbformat": 4,
 "nbformat_minor": 2
}
